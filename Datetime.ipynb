{
  "nbformat": 4,
  "nbformat_minor": 0,
  "metadata": {
    "kernelspec": {
      "display_name": "Python 3",
      "language": "python",
      "name": "python3"
    },
    "language_info": {
      "codemirror_mode": {
        "name": "ipython",
        "version": 3
      },
      "file_extension": ".py",
      "mimetype": "text/x-python",
      "name": "python",
      "nbconvert_exporter": "python",
      "pygments_lexer": "ipython3",
      "version": "3.8.8"
    },
    "colab": {
      "name": "Datetime.ipynb",
      "provenance": [],
      "include_colab_link": true
    }
  },
  "cells": [
    {
      "cell_type": "markdown",
      "metadata": {
        "id": "view-in-github",
        "colab_type": "text"
      },
      "source": [
        "<a href=\"https://colab.research.google.com/github/DiegoMacielDM/PythonDataScience/blob/main/Datetime.ipynb\" target=\"_parent\"><img src=\"https://colab.research.google.com/assets/colab-badge.svg\" alt=\"Open In Colab\"/></a>"
      ]
    },
    {
      "cell_type": "markdown",
      "metadata": {
        "id": "BqOiaS4_Rq-e"
      },
      "source": [
        "## Datetime\n",
        "Esse módulo permite a manipulação de datas em Python."
      ]
    },
    {
      "cell_type": "code",
      "metadata": {
        "id": "0VFr7v-bRq-f"
      },
      "source": [
        "import datetime"
      ],
      "execution_count": 1,
      "outputs": []
    },
    {
      "cell_type": "code",
      "metadata": {
        "id": "pVQ3X9CWRq-f"
      },
      "source": [
        "agora = datetime.datetime.now()"
      ],
      "execution_count": 2,
      "outputs": []
    },
    {
      "cell_type": "code",
      "metadata": {
        "colab": {
          "base_uri": "https://localhost:8080/"
        },
        "id": "LlWrq0a5Rq-g",
        "outputId": "43acaf25-fddc-48de-e3f7-583c10347420"
      },
      "source": [
        "agora"
      ],
      "execution_count": 3,
      "outputs": [
        {
          "output_type": "execute_result",
          "data": {
            "text/plain": [
              "datetime.datetime(2021, 11, 2, 15, 31, 39, 518887)"
            ]
          },
          "metadata": {},
          "execution_count": 3
        }
      ]
    },
    {
      "cell_type": "code",
      "metadata": {
        "colab": {
          "base_uri": "https://localhost:8080/"
        },
        "id": "6MRZRfawSAwh",
        "outputId": "1bdbe856-4146-4ef7-b73e-da598ac9e852"
      },
      "source": [
        "print ('Hora  :', agora.hour)\n",
        "print ('Minute:', agora.minute)\n",
        "print ('Segundo:', agora.second)\n",
        "print ('Microsegundo:', agora.microsecond)"
      ],
      "execution_count": 7,
      "outputs": [
        {
          "output_type": "stream",
          "name": "stdout",
          "text": [
            "Hora  : 15\n",
            "Minute: 31\n",
            "Segundo: 39\n",
            "Microsegundo: 518887\n"
          ]
        }
      ]
    },
    {
      "cell_type": "code",
      "metadata": {
        "id": "kI-6HnukRq-h"
      },
      "source": [
        "t = datetime.time(7, 43, 28)"
      ],
      "execution_count": 4,
      "outputs": []
    },
    {
      "cell_type": "code",
      "metadata": {
        "colab": {
          "base_uri": "https://localhost:8080/"
        },
        "id": "JDKdN8ODRq-i",
        "outputId": "21ab283b-4348-475d-964c-5b700df5581a"
      },
      "source": [
        "print (t)"
      ],
      "execution_count": 5,
      "outputs": [
        {
          "output_type": "stream",
          "name": "stdout",
          "text": [
            "07:43:28\n"
          ]
        }
      ]
    },
    {
      "cell_type": "code",
      "metadata": {
        "colab": {
          "base_uri": "https://localhost:8080/"
        },
        "id": "Ag5OkJVgRq-j",
        "outputId": "66beaa8f-b8f2-4f21-8aca-1e5f88247ca8"
      },
      "source": [
        "print ('Hora  :', t.hour)\n",
        "print ('Minute:', t.minute)\n",
        "print ('Segundo:', t.second)\n",
        "print ('Microsegundo:', t.microsecond)"
      ],
      "execution_count": 6,
      "outputs": [
        {
          "output_type": "stream",
          "name": "stdout",
          "text": [
            "Hora  : 7\n",
            "Minute: 43\n",
            "Segundo: 28\n",
            "Microsegundo: 0\n"
          ]
        }
      ]
    },
    {
      "cell_type": "code",
      "metadata": {
        "colab": {
          "base_uri": "https://localhost:8080/"
        },
        "id": "IKVH5p5iRq-k",
        "outputId": "d87b9aab-2ed3-48ad-83d2-88844b33c0e2"
      },
      "source": [
        "print(datetime.time.min)"
      ],
      "execution_count": 8,
      "outputs": [
        {
          "output_type": "stream",
          "name": "stdout",
          "text": [
            "00:00:00\n"
          ]
        }
      ]
    },
    {
      "cell_type": "code",
      "metadata": {
        "id": "VAd_bpE2Rq-l"
      },
      "source": [
        "hoje = datetime.date.today()"
      ],
      "execution_count": 9,
      "outputs": []
    },
    {
      "cell_type": "code",
      "metadata": {
        "colab": {
          "base_uri": "https://localhost:8080/"
        },
        "id": "IqvwziVFRq-l",
        "outputId": "bd23ba95-2a7b-48bf-ccbd-a0946bd95418"
      },
      "source": [
        "print (hoje)\n",
        "print ('ctime:', hoje.ctime())\n",
        "print ('Ano:', hoje.year)\n",
        "print ('Mês :', hoje.month)\n",
        "print ('Dia :', hoje.day)"
      ],
      "execution_count": 10,
      "outputs": [
        {
          "output_type": "stream",
          "name": "stdout",
          "text": [
            "2021-11-02\n",
            "ctime: Tue Nov  2 00:00:00 2021\n",
            "Ano: 2021\n",
            "Mês : 11\n",
            "Dia : 2\n"
          ]
        }
      ]
    },
    {
      "cell_type": "code",
      "metadata": {
        "colab": {
          "base_uri": "https://localhost:8080/"
        },
        "id": "BuMrBSW6Rq-m",
        "outputId": "0dfc0895-0707-428d-d414-5f8ceb510c69"
      },
      "source": [
        "d1 = datetime.date(2015, 4, 28)\n",
        "print ('d1:', d1)"
      ],
      "execution_count": 11,
      "outputs": [
        {
          "output_type": "stream",
          "name": "stdout",
          "text": [
            "d1: 2015-04-28\n"
          ]
        }
      ]
    },
    {
      "cell_type": "code",
      "metadata": {
        "colab": {
          "base_uri": "https://localhost:8080/"
        },
        "id": "5AQ0zZb4Rq-m",
        "outputId": "58efd33c-7183-4659-d05e-c1ac0c70dced"
      },
      "source": [
        "d2 = d1.replace(year=2016)\n",
        "print ('d2:', d2)"
      ],
      "execution_count": 12,
      "outputs": [
        {
          "output_type": "stream",
          "name": "stdout",
          "text": [
            "d2: 2016-04-28\n"
          ]
        }
      ]
    },
    {
      "cell_type": "code",
      "metadata": {
        "colab": {
          "base_uri": "https://localhost:8080/"
        },
        "id": "hmo-BuoIRq-n",
        "outputId": "2e30543d-e152-4994-a46e-974db9a474a5"
      },
      "source": [
        "# Diferença em dias entre duas datas\n",
        "d2 - d1"
      ],
      "execution_count": 13,
      "outputs": [
        {
          "output_type": "execute_result",
          "data": {
            "text/plain": [
              "datetime.timedelta(days=366)"
            ]
          },
          "metadata": {},
          "execution_count": 13
        }
      ]
    }
  ]
}