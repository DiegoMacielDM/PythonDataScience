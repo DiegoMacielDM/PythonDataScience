{
  "nbformat": 4,
  "nbformat_minor": 0,
  "metadata": {
    "css": [
      ""
    ],
    "kernelspec": {
      "display_name": "Python 3",
      "language": "python",
      "name": "python3"
    },
    "language_info": {
      "codemirror_mode": {
        "name": "ipython",
        "version": 3
      },
      "file_extension": ".py",
      "mimetype": "text/x-python",
      "name": "python",
      "nbconvert_exporter": "python",
      "pygments_lexer": "ipython3",
      "version": "3.8.8"
    },
    "colab": {
      "name": "ManipulandoArquivos.ipynb",
      "provenance": [],
      "include_colab_link": true
    }
  },
  "cells": [
    {
      "cell_type": "markdown",
      "metadata": {
        "id": "view-in-github",
        "colab_type": "text"
      },
      "source": [
        "<a href=\"https://colab.research.google.com/github/DiegoMacielDM/PythonDataScience/blob/main/ManipulandoArquivos.ipynb\" target=\"_parent\"><img src=\"https://colab.research.google.com/assets/colab-badge.svg\" alt=\"Open In Colab\"/></a>"
      ]
    },
    {
      "cell_type": "markdown",
      "metadata": {
        "id": "YSBf0vtIJU_C"
      },
      "source": [
        "## Manipulação de Arquivos"
      ]
    },
    {
      "cell_type": "markdown",
      "metadata": {
        "id": "y-jakyb7JU_D"
      },
      "source": [
        "- Arquivos TXT\n",
        "- Arquivos CSV \n",
        "- Arquivos JSON"
      ]
    },
    {
      "cell_type": "markdown",
      "metadata": {
        "id": "-o4wwJoMJU_D"
      },
      "source": [
        "## Manipulando Arquivos TXT"
      ]
    },
    {
      "cell_type": "code",
      "metadata": {
        "id": "jcF_qbv4JU_E"
      },
      "source": [
        "texto = \"Cientista de Dados é a profissão que mais tem crescido em todo mundo.\\n\"\n",
        "texto = texto + \"Esses profissionais precisam se especializar em Programação, Estatística e Machine Learning.\\n\"\n",
        "texto += \"Meu timão! \\0/\\0/\\0/\\0/\""
      ],
      "execution_count": 4,
      "outputs": []
    },
    {
      "cell_type": "code",
      "metadata": {
        "colab": {
          "base_uri": "https://localhost:8080/"
        },
        "id": "A0RJ1an4JU_F",
        "outputId": "5835089a-a33f-44da-e938-da7dc557e471"
      },
      "source": [
        "print(texto)"
      ],
      "execution_count": 5,
      "outputs": [
        {
          "output_type": "stream",
          "name": "stdout",
          "text": [
            "Cientista de Dados é a profissão que mais tem crescido em todo mundo.\n",
            "Esses profissionais precisam se especializar em Programação, Estatística e Machine Learning.\n",
            "Meu timão! \u0000/\u0000/\u0000/\u0000/\n"
          ]
        }
      ]
    },
    {
      "cell_type": "code",
      "metadata": {
        "id": "kS8KVX0YJU_H"
      },
      "source": [
        "# Importando o módulo os\n",
        "import os"
      ],
      "execution_count": 6,
      "outputs": []
    },
    {
      "cell_type": "code",
      "metadata": {
        "id": "EpCEK4F_JU_J"
      },
      "source": [
        "# Criando um arquivo \n",
        "arquivo = open(os.path.join('/content/drive/MyDrive/Python Data Academy/Cap04/Notebooks/arquivos/cientista.txt'),'w')"
      ],
      "execution_count": 7,
      "outputs": []
    },
    {
      "cell_type": "code",
      "metadata": {
        "id": "qHcWTl4BJU_K"
      },
      "source": [
        "# Gravando os dados no arquivo\n",
        "for palavra in texto.split():\n",
        "    arquivo.write(palavra+' ')"
      ],
      "execution_count": 8,
      "outputs": []
    },
    {
      "cell_type": "code",
      "metadata": {
        "id": "AgvlGWMdJU_K"
      },
      "source": [
        "# Fechando o arquivo\n",
        "arquivo.close()"
      ],
      "execution_count": 9,
      "outputs": []
    },
    {
      "cell_type": "code",
      "metadata": {
        "colab": {
          "base_uri": "https://localhost:8080/"
        },
        "id": "gA3wURgfJU_L",
        "outputId": "fe31718b-bbba-46e4-9544-353349272838"
      },
      "source": [
        "# Lendo o arquivo\n",
        "arquivo = open('/content/drive/MyDrive/Python Data Academy/Cap04/Notebooks/arquivos/cientista.txt','r')\n",
        "conteudo = arquivo.read()\n",
        "arquivo.close()\n",
        "\n",
        "print(conteudo)"
      ],
      "execution_count": 11,
      "outputs": [
        {
          "output_type": "stream",
          "name": "stdout",
          "text": [
            "Cientista de Dados é a profissão que mais tem crescido em todo mundo. Esses profissionais precisam se especializar em Programação, Estatística e Machine Learning. Meu timão! \u0000/\u0000/\u0000/\u0000/ \n"
          ]
        }
      ]
    },
    {
      "cell_type": "markdown",
      "metadata": {
        "id": "0MIAFuNJJU_M"
      },
      "source": [
        "### Usando a expressão `with` \n",
        "\n",
        "O método close() é executado automaticamente"
      ]
    },
    {
      "cell_type": "code",
      "metadata": {
        "id": "P15U45y9JU_M"
      },
      "source": [
        "with open('/content/drive/MyDrive/Python Data Academy/Cap04/Notebooks/arquivos/cientista.txt','r') as arquivo:\n",
        "    conteudo = arquivo.read()"
      ],
      "execution_count": 12,
      "outputs": []
    },
    {
      "cell_type": "code",
      "metadata": {
        "colab": {
          "base_uri": "https://localhost:8080/"
        },
        "id": "KCtSK7cfJU_N",
        "outputId": "b183b008-98e8-480c-8228-7527f6120580"
      },
      "source": [
        "print(len(conteudo))"
      ],
      "execution_count": 13,
      "outputs": [
        {
          "output_type": "stream",
          "name": "stdout",
          "text": [
            "183\n"
          ]
        }
      ]
    },
    {
      "cell_type": "code",
      "metadata": {
        "colab": {
          "base_uri": "https://localhost:8080/"
        },
        "id": "D8BatsvlJU_O",
        "outputId": "821b4bcd-aa32-4aab-e134-3235c7e35271"
      },
      "source": [
        "print(conteudo)"
      ],
      "execution_count": 14,
      "outputs": [
        {
          "output_type": "stream",
          "name": "stdout",
          "text": [
            "Cientista de Dados é a profissão que mais tem crescido em todo mundo. Esses profissionais precisam se especializar em Programação, Estatística e Machine Learning. Meu timão! \u0000/\u0000/\u0000/\u0000/ \n"
          ]
        }
      ]
    },
    {
      "cell_type": "code",
      "metadata": {
        "id": "wMEoTnauJU_O"
      },
      "source": [
        "with open('/content/drive/MyDrive/Python Data Academy/Cap04/Notebooks/arquivos/cientista.txt','w') as arquivo:\n",
        "    arquivo.write(texto[:21])\n",
        "    arquivo.write('\\n')\n",
        "    arquivo.write(texto[:33])"
      ],
      "execution_count": 15,
      "outputs": []
    },
    {
      "cell_type": "code",
      "metadata": {
        "colab": {
          "base_uri": "https://localhost:8080/"
        },
        "id": "qDsnpctmJU_O",
        "outputId": "6f40c90a-0509-4c7d-d4a1-01d7115a2daa"
      },
      "source": [
        "# Lendo o arquivo\n",
        "arquivo = open('/content/drive/MyDrive/Python Data Academy/Cap04/Notebooks/arquivos/cientista.txt','r')\n",
        "conteudo = arquivo.read()\n",
        "arquivo.close()\n",
        "\n",
        "print (conteudo)"
      ],
      "execution_count": 17,
      "outputs": [
        {
          "output_type": "stream",
          "name": "stdout",
          "text": [
            "Cientista de Dados é \n",
            "Cientista de Dados é a profissão \n"
          ]
        }
      ]
    },
    {
      "cell_type": "markdown",
      "metadata": {
        "id": "ZxmJzVaoJU_P"
      },
      "source": [
        "### Manipulando Arquivos CSV (comma-separated values )"
      ]
    },
    {
      "cell_type": "code",
      "metadata": {
        "id": "PdiJ22VTJU_P"
      },
      "source": [
        "# Importando o módulo csv\n",
        "import csv"
      ],
      "execution_count": 20,
      "outputs": []
    },
    {
      "cell_type": "code",
      "metadata": {
        "id": "GUN9Reo6JU_Q"
      },
      "source": [
        "with open('/content/drive/MyDrive/Python Data Academy/Cap04/Notebooks/arquivos/numeros.csv','w') as arquivo:\n",
        "    writer = csv.writer(arquivo)\n",
        "    writer.writerow(('primeira','segunda','terceira'))\n",
        "    writer.writerow((55,93,76)) \n",
        "    writer.writerow((62,14,86))"
      ],
      "execution_count": 21,
      "outputs": []
    },
    {
      "cell_type": "code",
      "metadata": {
        "colab": {
          "base_uri": "https://localhost:8080/"
        },
        "id": "SzSftpVNJU_Q",
        "outputId": "42921651-c693-45c5-ebdb-7f88060ace5f"
      },
      "source": [
        "# Leitura de arquivos csv\n",
        "with open('/content/drive/MyDrive/Python Data Academy/Cap04/Notebooks/arquivos/numeros.csv','r') as arquivo:\n",
        "    leitor = csv.reader(arquivo)\n",
        "    for x in leitor:\n",
        "        print ('Número de colunas:', len(x))\n",
        "        print(x)"
      ],
      "execution_count": 22,
      "outputs": [
        {
          "output_type": "stream",
          "name": "stdout",
          "text": [
            "Número de colunas: 3\n",
            "['primeira', 'segunda', 'terceira']\n",
            "Número de colunas: 3\n",
            "['55', '93', '76']\n",
            "Número de colunas: 3\n",
            "['62', '14', '86']\n"
          ]
        }
      ]
    },
    {
      "cell_type": "code",
      "metadata": {
        "colab": {
          "base_uri": "https://localhost:8080/"
        },
        "id": "WFg0ylpvJU_R",
        "outputId": "88b1f91e-7841-4300-c62c-4cbc715dd153"
      },
      "source": [
        "# Código alternativo para eventuais problemas com linhas em branco no arquivo\n",
        "with open('/content/drive/MyDrive/Python Data Academy/Cap04/Notebooks/arquivos/numeros.csv','r', encoding='utf8', newline = '\\r\\n') as arquivo:\n",
        "    leitor = csv.reader(arquivo)\n",
        "    for x in leitor:\n",
        "        print ('Número de colunas:', len(x))\n",
        "        print(x)"
      ],
      "execution_count": 23,
      "outputs": [
        {
          "output_type": "stream",
          "name": "stdout",
          "text": [
            "Número de colunas: 3\n",
            "['primeira', 'segunda', 'terceira']\n",
            "Número de colunas: 3\n",
            "['55', '93', '76']\n",
            "Número de colunas: 3\n",
            "['62', '14', '86']\n"
          ]
        }
      ]
    },
    {
      "cell_type": "code",
      "metadata": {
        "colab": {
          "base_uri": "https://localhost:8080/"
        },
        "id": "NI31KFRcJU_S",
        "outputId": "8c4c4c42-359a-455f-9efd-96fe6f1c9ca9"
      },
      "source": [
        "# Gerando uma lista com dados do arquivo csv\n",
        "with open('/content/drive/MyDrive/Python Data Academy/Cap04/Notebooks/arquivos/numeros.csv','r') as arquivo:\n",
        "    leitor = csv.reader(arquivo)\n",
        "    dados = list(leitor)\n",
        "    \n",
        "    \n",
        "print (dados)"
      ],
      "execution_count": 24,
      "outputs": [
        {
          "output_type": "stream",
          "name": "stdout",
          "text": [
            "[['primeira', 'segunda', 'terceira'], ['55', '93', '76'], ['62', '14', '86']]\n"
          ]
        }
      ]
    },
    {
      "cell_type": "code",
      "metadata": {
        "colab": {
          "base_uri": "https://localhost:8080/"
        },
        "id": "UilZm80yJU_T",
        "outputId": "37824f92-55a0-439f-ecd3-d19a4bbb5cac"
      },
      "source": [
        "# Impriminfo a partir da segunda linha\n",
        "for linha in dados[1:]:\n",
        "    print (linha)"
      ],
      "execution_count": 25,
      "outputs": [
        {
          "output_type": "stream",
          "name": "stdout",
          "text": [
            "['55', '93', '76']\n",
            "['62', '14', '86']\n"
          ]
        }
      ]
    },
    {
      "cell_type": "markdown",
      "metadata": {
        "id": "1vDv9dJ0JU_T"
      },
      "source": [
        "### Manipulando Arquivos JSON (Java Script Object Notation )\n",
        "JSON (JavaScript Object Notation) é uma maneira de armazenar informações de forma organizada e de fácil acesso. Em poucas palavras, ele nos dá uma coleção legível de dados que podem ser acessados de forma muito lógica. Pode ser uma fonte de Big Data."
      ]
    },
    {
      "cell_type": "code",
      "metadata": {
        "id": "HidBs1qkJU_U"
      },
      "source": [
        "# Criando um dicionário\n",
        "dict = {'nome': 'Guido van Rossum',\n",
        "        'linguagem': 'Python',\n",
        "        'similar': ['c','Modula-3','lisp'],\n",
        "        'users': 1000000}"
      ],
      "execution_count": 26,
      "outputs": []
    },
    {
      "cell_type": "code",
      "metadata": {
        "colab": {
          "base_uri": "https://localhost:8080/"
        },
        "id": "JQJg9nyuJU_U",
        "outputId": "45bb9cf3-55a7-4db8-ccd8-b678d4d65ad1"
      },
      "source": [
        "for k,v in dict.items():\n",
        "    print (k,v)"
      ],
      "execution_count": 27,
      "outputs": [
        {
          "output_type": "stream",
          "name": "stdout",
          "text": [
            "nome Guido van Rossum\n",
            "linguagem Python\n",
            "similar ['c', 'Modula-3', 'lisp']\n",
            "users 1000000\n"
          ]
        }
      ]
    },
    {
      "cell_type": "code",
      "metadata": {
        "id": "GvVLFNhZJU_U"
      },
      "source": [
        "# Importando o módulo Json\n",
        "import json"
      ],
      "execution_count": 28,
      "outputs": []
    },
    {
      "cell_type": "code",
      "metadata": {
        "colab": {
          "base_uri": "https://localhost:8080/",
          "height": 35
        },
        "id": "9jiawfyqJU_V",
        "outputId": "daf12d37-b21c-4afe-c827-8d136e02eaf4"
      },
      "source": [
        "# Convertendo o dicionário para um objeto json\n",
        "json.dumps(dict)"
      ],
      "execution_count": 29,
      "outputs": [
        {
          "output_type": "execute_result",
          "data": {
            "application/vnd.google.colaboratory.intrinsic+json": {
              "type": "string"
            },
            "text/plain": [
              "'{\"nome\": \"Guido van Rossum\", \"linguagem\": \"Python\", \"similar\": [\"c\", \"Modula-3\", \"lisp\"], \"users\": 1000000}'"
            ]
          },
          "metadata": {},
          "execution_count": 29
        }
      ]
    },
    {
      "cell_type": "code",
      "metadata": {
        "id": "R1uHk3E-JU_V"
      },
      "source": [
        "# Criando um arquivo Json\n",
        "with open('/content/drive/MyDrive/Python Data Academy/Cap04/Notebooks/arquivos/dados.json','w') as arquivo:\n",
        "    arquivo.write(json.dumps(dict))"
      ],
      "execution_count": 30,
      "outputs": []
    },
    {
      "cell_type": "code",
      "metadata": {
        "id": "yV-5YREsJU_V"
      },
      "source": [
        "# Leitura de arquivos Json\n",
        "with open('/content/drive/MyDrive/Python Data Academy/Cap04/Notebooks/arquivos/dados.json','r') as arquivo:\n",
        "    texto = arquivo.read()\n",
        "    data = json.loads(texto)"
      ],
      "execution_count": 31,
      "outputs": []
    },
    {
      "cell_type": "code",
      "metadata": {
        "colab": {
          "base_uri": "https://localhost:8080/"
        },
        "id": "kCJK_Xr8JU_W",
        "outputId": "725512ad-118d-4920-d55a-bd0f720c1082"
      },
      "source": [
        "print (data)"
      ],
      "execution_count": 32,
      "outputs": [
        {
          "output_type": "stream",
          "name": "stdout",
          "text": [
            "{'nome': 'Guido van Rossum', 'linguagem': 'Python', 'similar': ['c', 'Modula-3', 'lisp'], 'users': 1000000}\n"
          ]
        }
      ]
    },
    {
      "cell_type": "code",
      "metadata": {
        "colab": {
          "base_uri": "https://localhost:8080/"
        },
        "id": "LVEoP8CBJU_W",
        "outputId": "eb3534d0-4d8f-4470-d8b2-5632299cce1d"
      },
      "source": [
        "print (data['nome'])"
      ],
      "execution_count": 33,
      "outputs": [
        {
          "output_type": "stream",
          "name": "stdout",
          "text": [
            "Guido van Rossum\n"
          ]
        }
      ]
    },
    {
      "cell_type": "code",
      "metadata": {
        "id": "fEMtxk6nJU_W"
      },
      "source": [
        "# Imprimindo um arquivo Json copiado da internet\n",
        "from urllib.request import urlopen\n",
        "\n",
        "response = urlopen(\"http://vimeo.com/api/v2/video/57733101.json\").read().decode('utf8')\n",
        "data = json.loads(response)[0]"
      ],
      "execution_count": 34,
      "outputs": []
    },
    {
      "cell_type": "code",
      "metadata": {
        "colab": {
          "base_uri": "https://localhost:8080/"
        },
        "id": "7RQr2akUJU_X",
        "outputId": "aff03e8f-449d-411f-81a1-19ad2be773df"
      },
      "source": [
        "print ('Título: ', data['title'])\n",
        "print ('URL: ', data['url'])\n",
        "print ('Duração: ', data['duration'])\n",
        "print ('Número de Visualizações: ', data['stats_number_of_plays'])"
      ],
      "execution_count": 35,
      "outputs": [
        {
          "output_type": "stream",
          "name": "stdout",
          "text": [
            "Título:  The Good Man trailer\n",
            "URL:  https://vimeo.com/57733101\n",
            "Duração:  143\n",
            "Número de Visualizações:  6287\n"
          ]
        }
      ]
    },
    {
      "cell_type": "code",
      "metadata": {
        "id": "p4Q7wYJ0JU_X"
      },
      "source": [
        "# Copiando o conteúdo de um arquivo para outro\n",
        "import os\n",
        "\n",
        "arquivo_fonte = '/content/drive/MyDrive/Python Data Academy/Cap04/Notebooks/arquivos/dados.json'\n",
        "arquivo_destino = '/content/drive/MyDrive/Python Data Academy/Cap04/Notebooks/arquivos/json_data.txt'"
      ],
      "execution_count": 36,
      "outputs": []
    },
    {
      "cell_type": "code",
      "metadata": {
        "id": "PM1D4oRUJU_X"
      },
      "source": [
        "# Método 1\n",
        "with open(arquivo_fonte,'r') as infile:\n",
        "    text = infile.read()\n",
        "    with open(arquivo_destino,'w') as outfile:\n",
        "        outfile.write(text)  "
      ],
      "execution_count": 37,
      "outputs": []
    },
    {
      "cell_type": "code",
      "metadata": {
        "colab": {
          "base_uri": "https://localhost:8080/"
        },
        "id": "2eZKEHsmJU_Y",
        "outputId": "5610ecb4-8f45-4134-c7a4-eac87f25ac62"
      },
      "source": [
        "# Método 2\n",
        "open(arquivo_destino,'w').write(open(arquivo_fonte,'r').read()) "
      ],
      "execution_count": 38,
      "outputs": [
        {
          "output_type": "execute_result",
          "data": {
            "text/plain": [
              "107"
            ]
          },
          "metadata": {},
          "execution_count": 38
        }
      ]
    },
    {
      "cell_type": "code",
      "metadata": {
        "id": "xApMeZCLJU_Y"
      },
      "source": [
        "# Leitura de arquivos Json\n",
        "with open('/content/drive/MyDrive/Python Data Academy/Cap04/Notebooks/arquivos/json_data.txt','r') as arquivo:\n",
        "    texto = arquivo.read()\n",
        "    data = json.loads(texto)"
      ],
      "execution_count": 40,
      "outputs": []
    },
    {
      "cell_type": "code",
      "metadata": {
        "id": "hUVBkHJJJU_Y",
        "outputId": "30713af7-23b8-44cb-b158-48575a182dac"
      },
      "source": [
        "print(data)"
      ],
      "execution_count": null,
      "outputs": [
        {
          "name": "stdout",
          "output_type": "stream",
          "text": [
            "{'nome': 'Guido van Rossum', 'linguagem': 'Python', 'similar': ['c', 'Modula-3', 'lisp'], 'users': 1000000}\n"
          ]
        }
      ]
    },
    {
      "cell_type": "markdown",
      "metadata": {
        "id": "tVRPIVxfJU_Z"
      },
      "source": [
        "# FIM"
      ]
    }
  ]
}