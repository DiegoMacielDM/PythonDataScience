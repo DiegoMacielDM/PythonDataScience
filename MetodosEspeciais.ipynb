{
  "nbformat": 4,
  "nbformat_minor": 0,
  "metadata": {
    "kernelspec": {
      "display_name": "Python 3",
      "language": "python",
      "name": "python3"
    },
    "language_info": {
      "codemirror_mode": {
        "name": "ipython",
        "version": 3
      },
      "file_extension": ".py",
      "mimetype": "text/x-python",
      "name": "python",
      "nbconvert_exporter": "python",
      "pygments_lexer": "ipython3",
      "version": "3.8.8"
    },
    "colab": {
      "name": "MetodosEspeciais.ipynb",
      "provenance": [],
      "include_colab_link": true
    }
  },
  "cells": [
    {
      "cell_type": "markdown",
      "metadata": {
        "id": "view-in-github",
        "colab_type": "text"
      },
      "source": [
        "<a href=\"https://colab.research.google.com/github/DiegoMacielDM/PythonDataScience/blob/main/MetodosEspeciais.ipynb\" target=\"_parent\"><img src=\"https://colab.research.google.com/assets/colab-badge.svg\" alt=\"Open In Colab\"/></a>"
      ]
    },
    {
      "cell_type": "markdown",
      "metadata": {
        "id": "nwtY61GNPtac"
      },
      "source": [
        "## Métodos Especiais"
      ]
    },
    {
      "cell_type": "code",
      "metadata": {
        "id": "43ODP3Y4Ptad"
      },
      "source": [
        "# Criando a classe Livro\n",
        "class Livro():\n",
        "    def __init__(self, titulo, autor, paginas):\n",
        "        print (\"Livro criado\")\n",
        "        self.titulo = titulo\n",
        "        self.autor = autor\n",
        "        self.paginas = paginas\n",
        "                \n",
        "    def __str__(self):\n",
        "        return \"Título: %s , autor: %s, páginas: %s \" \\\n",
        "    %(self.titulo, self.autor, self.paginas)\n",
        "\n",
        "    def __len__(self):\n",
        "        return self.paginas\n",
        "    \n",
        "    def len(self):\n",
        "        return print(\"Páginas do livro com método comum: \", self.paginas)"
      ],
      "execution_count": null,
      "outputs": []
    },
    {
      "cell_type": "code",
      "metadata": {
        "id": "HQuP5QJrPtad",
        "outputId": "732ad6b3-03c8-431b-9edf-04598f31f3f9"
      },
      "source": [
        "livro1 = Livro(\"Os Lusíadas\", \"Luis de Camões\", 8816)"
      ],
      "execution_count": null,
      "outputs": [
        {
          "name": "stdout",
          "output_type": "stream",
          "text": [
            "Livro criado\n"
          ]
        }
      ]
    },
    {
      "cell_type": "code",
      "metadata": {
        "id": "F41fcskmPtae",
        "outputId": "e2de9bea-3b56-48b3-e2f7-0128189b86e1"
      },
      "source": [
        "# Métodos especiais\n",
        "print(livro1)"
      ],
      "execution_count": null,
      "outputs": [
        {
          "name": "stdout",
          "output_type": "stream",
          "text": [
            "Título: Os Lusíadas , autor: Luis de Camões, páginas: 8816 \n"
          ]
        }
      ]
    },
    {
      "cell_type": "code",
      "metadata": {
        "id": "BBcCEvjNPtae",
        "outputId": "964b3dd2-3c3d-46db-c370-d08ae24c9ab9"
      },
      "source": [
        "str(livro1)"
      ],
      "execution_count": null,
      "outputs": [
        {
          "data": {
            "text/plain": [
              "'Título: Os Lusíadas , autor: Luis de Camões, páginas: 8816 '"
            ]
          },
          "execution_count": 5,
          "metadata": {},
          "output_type": "execute_result"
        }
      ]
    },
    {
      "cell_type": "code",
      "metadata": {
        "id": "hi1InqRsPtaf",
        "outputId": "b34938c9-9f62-4cf7-a9a1-a2504dc7de33"
      },
      "source": [
        "len(livro1)"
      ],
      "execution_count": null,
      "outputs": [
        {
          "data": {
            "text/plain": [
              "8816"
            ]
          },
          "execution_count": 6,
          "metadata": {},
          "output_type": "execute_result"
        }
      ]
    },
    {
      "cell_type": "code",
      "metadata": {
        "id": "YIN7V7KsPtaf",
        "outputId": "f9712ddc-0db7-49d7-d332-7d025fc7a59f"
      },
      "source": [
        "livro1.len()"
      ],
      "execution_count": null,
      "outputs": [
        {
          "name": "stdout",
          "output_type": "stream",
          "text": [
            "Páginas do livro com método comum:  8816\n"
          ]
        }
      ]
    },
    {
      "cell_type": "code",
      "metadata": {
        "id": "uH4w9I7hPtag"
      },
      "source": [
        "# Ao executar a função del para remover um atributo, o Python executa:\n",
        "# livro1.__delattr__(\"paginas\")\n",
        "del livro1.paginas"
      ],
      "execution_count": null,
      "outputs": []
    },
    {
      "cell_type": "code",
      "metadata": {
        "id": "UxLJbYuEPtag",
        "outputId": "5a81803d-4ae5-40c7-8eda-a41c82098d7e"
      },
      "source": [
        "hasattr(livro1, \"paginas\")"
      ],
      "execution_count": null,
      "outputs": [
        {
          "data": {
            "text/plain": [
              "False"
            ]
          },
          "execution_count": 9,
          "metadata": {},
          "output_type": "execute_result"
        }
      ]
    }
  ]
}