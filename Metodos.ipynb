{
  "nbformat": 4,
  "nbformat_minor": 0,
  "metadata": {
    "kernelspec": {
      "display_name": "Python 3",
      "language": "python",
      "name": "python3"
    },
    "language_info": {
      "codemirror_mode": {
        "name": "ipython",
        "version": 3
      },
      "file_extension": ".py",
      "mimetype": "text/x-python",
      "name": "python",
      "nbconvert_exporter": "python",
      "pygments_lexer": "ipython3",
      "version": "3.8.8"
    },
    "colab": {
      "name": "Metodos.ipynb",
      "provenance": [],
      "include_colab_link": true
    }
  },
  "cells": [
    {
      "cell_type": "markdown",
      "metadata": {
        "id": "view-in-github",
        "colab_type": "text"
      },
      "source": [
        "<a href=\"https://colab.research.google.com/github/DiegoMacielDM/PythonDataScience/blob/main/Metodos.ipynb\" target=\"_parent\"><img src=\"https://colab.research.google.com/assets/colab-badge.svg\" alt=\"Open In Colab\"/></a>"
      ]
    },
    {
      "cell_type": "markdown",
      "metadata": {
        "id": "ppjxltZ8PgMz"
      },
      "source": [
        "## Métodos"
      ]
    },
    {
      "cell_type": "code",
      "metadata": {
        "id": "O7UBVocgPgM0"
      },
      "source": [
        "# Criando uma classe chamada Circulo\n",
        "class Circulo():\n",
        "    \n",
        "    # O valor de pi é constante\n",
        "    pi = 3.14\n",
        "\n",
        "    # Quando um objeto desta classe for criado, este método será executado e o valor default do raio será 5.\n",
        "    def __init__(self, raio = 5):\n",
        "        self.raio = raio \n",
        "\n",
        "    # Esse método calcula a área. Self utiliza os atributos deste mesmo objeto\n",
        "    def area(self):\n",
        "        return (self.raio * self.raio) * Circulo.pi\n",
        "\n",
        "    # Método para gerar um novo raio\n",
        "    def setRaio(self, novo_raio):\n",
        "        self.raio = novo_raio\n",
        "\n",
        "    # Método para obter o raio do círculo\n",
        "    def getRaio(self):\n",
        "        return self.raio"
      ],
      "execution_count": null,
      "outputs": []
    },
    {
      "cell_type": "code",
      "metadata": {
        "id": "yWiKeJU6PgM1"
      },
      "source": [
        "# Criando o objeto circ. Uma instância da classe Circulo()\n",
        "circ = Circulo()"
      ],
      "execution_count": null,
      "outputs": []
    },
    {
      "cell_type": "code",
      "metadata": {
        "id": "tEiLTU8PPgM2",
        "outputId": "0d594ef5-6f1e-4902-9663-623c6fd6fd4a"
      },
      "source": [
        "# Executando um método da classe Circulo\n",
        "circ.getRaio()"
      ],
      "execution_count": null,
      "outputs": [
        {
          "data": {
            "text/plain": [
              "5"
            ]
          },
          "execution_count": 4,
          "metadata": {},
          "output_type": "execute_result"
        }
      ]
    },
    {
      "cell_type": "code",
      "metadata": {
        "id": "4yI3tk33PgM3"
      },
      "source": [
        "# Criando outro objeto chamado circ1. Uma instância da classe Circulo()\n",
        "# Agora sobrescrevendo o valor do atributo\n",
        "circ1 = Circulo(7)"
      ],
      "execution_count": null,
      "outputs": []
    },
    {
      "cell_type": "code",
      "metadata": {
        "id": "SL1LfGEDPgM3",
        "outputId": "e6cad344-1e1c-4f36-b9ed-9f6e8e946cd3"
      },
      "source": [
        "# Executando um método da classe Circulo\n",
        "circ1.getRaio()"
      ],
      "execution_count": null,
      "outputs": [
        {
          "data": {
            "text/plain": [
              "7"
            ]
          },
          "execution_count": 6,
          "metadata": {},
          "output_type": "execute_result"
        }
      ]
    },
    {
      "cell_type": "code",
      "metadata": {
        "id": "N1ZXli1dPgM4",
        "outputId": "305994a9-81c7-4b44-f64f-eb805feff7ef"
      },
      "source": [
        "# Imprimindo o raio\n",
        "print ('O raio é: ', circ.getRaio())"
      ],
      "execution_count": null,
      "outputs": [
        {
          "name": "stdout",
          "output_type": "stream",
          "text": [
            "O raio é:  5\n"
          ]
        }
      ]
    },
    {
      "cell_type": "code",
      "metadata": {
        "id": "F2_eekZXPgM5",
        "outputId": "0816c42d-b3a9-412e-cfbf-080a74f374de"
      },
      "source": [
        "# Imprimindo a area\n",
        "print('Area igual a: ', circ.area())"
      ],
      "execution_count": null,
      "outputs": [
        {
          "name": "stdout",
          "output_type": "stream",
          "text": [
            "Area igual a:  78.5\n"
          ]
        }
      ]
    },
    {
      "cell_type": "code",
      "metadata": {
        "id": "yxcOwxNdPgM6"
      },
      "source": [
        "# Gerando um novo valor para o raio do círculo\n",
        "circ.setRaio(3)"
      ],
      "execution_count": null,
      "outputs": []
    },
    {
      "cell_type": "code",
      "metadata": {
        "id": "_BDI6oQLPgM6",
        "outputId": "64405c12-7289-462a-a3ed-b02371ea0195"
      },
      "source": [
        "# Imprimindo o novo raio\n",
        "print ('Novo raio igual a: ', circ.getRaio())"
      ],
      "execution_count": null,
      "outputs": [
        {
          "name": "stdout",
          "output_type": "stream",
          "text": [
            "Novo raio igual a:  3\n"
          ]
        }
      ]
    },
    {
      "cell_type": "markdown",
      "metadata": {
        "id": "v_iIUd7mPgM8"
      },
      "source": [
        "### Obrigado\n",
        "\n",
        "### Visite o Blog da Data Science Academy - <a href=\"http://blog.dsacademy.com.br\">Blog DSA</a>"
      ]
    }
  ]
}